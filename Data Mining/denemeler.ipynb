{
 "cells": [
  {
   "cell_type": "code",
   "execution_count": 1,
   "id": "3fc0d1fa",
   "metadata": {},
   "outputs": [],
   "source": [
    "import pandas as pd\n",
    "import numpy as np\n",
    "import matplotlib.pyplot as plt\n",
    "import seaborn as sns\n",
    "import os"
   ]
  },
  {
   "cell_type": "markdown",
   "id": "30d3de4c",
   "metadata": {},
   "source": [
    "# Giriş \n",
    "\n",
    "Veriyi analiz etmek için çeşitli yöntemler kullanılır. CRISP-DM (Cross-Industry Standard Process for Data Mining) veri madenciliği projeleri için yaygın olarak kullanılan bir süreç modelidir. \n",
    "\n",
    "<div align=\"center\">\n",
    "    <img src=\"https://miro.medium.com/1*djMbyEKpGQoD-c5LRssMYw.png\" alt=\"Data Science\" width=\"600\"/>\n",
    "\n",
    "</div>\n"
   ]
  },
  {
   "cell_type": "markdown",
   "id": "69c4661f",
   "metadata": {},
   "source": [
    "### Verinin Anlaşılması\n",
    "\n",
    "Bu bölümde verinin datafreame olarak alındıktan sonra \n",
    "- veri setinin genel yapısı incelenecek,\n",
    "- eksik veriler kontrol edilecek,\n",
    "- veri tipleri gözden geçirilecek,\n",
    "- istatistiksel özetler çıkarılacak,\n",
    "- veri görselleştirme teknikleri ile verinin dağılımı ve ilişkileri analiz edilecek.\n"
   ]
  },
  {
   "cell_type": "code",
   "execution_count": 6,
   "id": "3dd467b6",
   "metadata": {},
   "outputs": [
    {
     "name": "stdout",
     "output_type": "stream",
     "text": [
      "-------------Veriseti hakkında-----------------\n",
      "<class 'pandas.core.frame.DataFrame'>\n",
      "RangeIndex: 920 entries, 0 to 919\n",
      "Data columns (total 16 columns):\n",
      " #   Column    Non-Null Count  Dtype  \n",
      "---  ------    --------------  -----  \n",
      " 0   id        920 non-null    int64  \n",
      " 1   age       920 non-null    int64  \n",
      " 2   sex       920 non-null    object \n",
      " 3   dataset   920 non-null    object \n",
      " 4   cp        920 non-null    object \n",
      " 5   trestbps  861 non-null    float64\n",
      " 6   chol      890 non-null    float64\n",
      " 7   fbs       830 non-null    object \n",
      " 8   restecg   918 non-null    object \n",
      " 9   thalch    865 non-null    float64\n",
      " 10  exang     865 non-null    object \n",
      " 11  oldpeak   858 non-null    float64\n",
      " 12  slope     611 non-null    object \n",
      " 13  ca        309 non-null    float64\n",
      " 14  thal      434 non-null    object \n",
      " 15  num       920 non-null    int64  \n",
      "dtypes: float64(5), int64(3), object(8)\n",
      "memory usage: 115.1+ KB\n",
      "None\n"
     ]
    }
   ],
   "source": [
    "\n",
    "dataframe = pd.read_csv('data/heart_disease_uci.csv')\n",
    "print(\"-------------Veriseti hakkında-----------------\")\n",
    "print(dataframe.info())\n"
   ]
  },
  {
   "cell_type": "markdown",
   "id": "57ce5bf0",
   "metadata": {},
   "source": [
    "Verisetinde null değer yok gibi gözükse de \"\" boş veriler olduğu görülmekte. Toplam 920 veri, 14 değişken var. Bunlardan **num** hedef değişken (y), diğerleri özellik değişkenleri (x). **dataset** sütununda verinin hangi kaynaktan alındığı gösterilmekte. Örneğin **Hungary** datasetinde toplam 303 satır var. Bazı değişkenler kategorik, bazıları sayısal. Bir de ID field'ı var. Bunların önişleme aşamasında dikkate alınması gerekecek. \n",
    "\n",
    "| # | İsim | Açıklama |\n",
    "| --- | --- | --- |\n",
    "| 1 | age | Yaş (yıl) |\n",
    "| 2 | sex | Cinsiyet (1=erkek, 0=kadın) |\n",
    "| 3 | cp | Göğüs ağrısı tipi (1–4 arası) |\n",
    "| 4 | trestbps | Dinlenik kan basıncı (mm Hg) |\n",
    "| 5 | chol | Serum kolesterol (mg/dl) |\n",
    "| 6 | fbs | Açlık kan şekeri >120 mg/dl (1=evet, 0=hayır) |\n",
    "| 7 | restecg | Dinlenme EKG sonuçları (0–2 arası) |\n",
    "| 8 | thalach | Maksimum kalp atış hızı |\n",
    "| 9 | exang | Egzersizle tetiklenen anjina (1=evet, 0=hayır) |\n",
    "| 10 | oldpeak | Egzersizle indüklenen ST depresyonu |\n",
    "| 11 | slope | ST segment eğimi (1–3 arası) |\n",
    "| 12 | ca | Flouroskopi ile renklendirilmiş ana damar sayısı (0–3) |\n",
    "| 13 | thal | Talasemi tipi (3=normal, 6=fixed defect, 7=reversible defect) |\n",
    "| 14 | num | Kalp hastalığı durumu (hedef değişken) |\n",
    "\n",
    "Hedef değişken ise şu şekilde kodlanmış:\n",
    "\n",
    "- `0 = no heart disease.`\n",
    "- `1 = Mild Heart Disease types.`\n",
    "- `2 = Moderate Heart Disease type.`\n",
    "- `3 = Severe Heart Disease type.`\n",
    "- `4 = Critical Heart Disease type.`\n",
    "\n",
    "\n",
    "Sütunların detayları şöyle : \n",
    "\n",
    "| Özellik                          | Count (Geçerli değer sayısı) | Ortalama (Mean) | Std (Standart sapma) | Min  | 25% | 50% (Median) | 75% | Max |\n",
    "| -------------------------------- | ---------------------------- | --------------- | -------------------- | ---- | --- | ------------ | --- | --- |\n",
    "| age                              | 920                          | 53.51           | 9.42                 | 28   | 47  | 54           | 60  | 77  |\n",
    "| trestbps (dinlenik kan basıncı)  | 861                          | 132.13          | 19.07                | 0    | 120 | 130          | 140 | 200 |\n",
    "| chol (kolesterol)                | 890                          | 199.13          | 110.78               | 0    | 175 | 223          | 268 | 603 |\n",
    "| thalch (maksimum kalp atım hızı) | 865                          | 137.55          | 25.93                | 60   | 120 | 140          | 157 | 202 |\n",
    "| oldpeak (ST depresyonu)          | 858                          | 0.88            | 1.09                 | -2.6 | 0.0 | 0.5          | 1.5 | 6.2 |\n",
    "\n",
    "\n",
    "Şimdi veri görselleştirme ile veriyi daha iyi anlayalım."
   ]
  },
  {
   "cell_type": "code",
   "execution_count": 7,
   "id": "b1ad461f",
   "metadata": {},
   "outputs": [
    {
     "name": "stdout",
     "output_type": "stream",
     "text": [
      "-------------İstatistikler-----------------\n",
      "               id         age    trestbps        chol      thalch     oldpeak  \\\n",
      "count  920.000000  920.000000  861.000000  890.000000  865.000000  858.000000   \n",
      "mean   460.500000   53.510870  132.132404  199.130337  137.545665    0.878788   \n",
      "std    265.725422    9.424685   19.066070  110.780810   25.926276    1.091226   \n",
      "min      1.000000   28.000000    0.000000    0.000000   60.000000   -2.600000   \n",
      "25%    230.750000   47.000000  120.000000  175.000000  120.000000    0.000000   \n",
      "50%    460.500000   54.000000  130.000000  223.000000  140.000000    0.500000   \n",
      "75%    690.250000   60.000000  140.000000  268.000000  157.000000    1.500000   \n",
      "max    920.000000   77.000000  200.000000  603.000000  202.000000    6.200000   \n",
      "\n",
      "               ca         num  \n",
      "count  309.000000  920.000000  \n",
      "mean     0.676375    0.995652  \n",
      "std      0.935653    1.142693  \n",
      "min      0.000000    0.000000  \n",
      "25%      0.000000    0.000000  \n",
      "50%      0.000000    1.000000  \n",
      "75%      1.000000    2.000000  \n",
      "max      3.000000    4.000000  \n"
     ]
    }
   ],
   "source": [
    "print(\"-------------İstatistikler-----------------\")\n",
    "print(dataframe.describe())\n"
   ]
  },
  {
   "cell_type": "code",
   "execution_count": null,
   "id": "2d3551c2",
   "metadata": {},
   "outputs": [
    {
     "name": "stdout",
     "output_type": "stream",
     "text": [
      "-----------İlk beş veri-------------------\n"
     ]
    },
    {
     "data": {
      "text/html": [
       "<div>\n",
       "<style scoped>\n",
       "    .dataframe tbody tr th:only-of-type {\n",
       "        vertical-align: middle;\n",
       "    }\n",
       "\n",
       "    .dataframe tbody tr th {\n",
       "        vertical-align: top;\n",
       "    }\n",
       "\n",
       "    .dataframe thead th {\n",
       "        text-align: right;\n",
       "    }\n",
       "</style>\n",
       "<table border=\"1\" class=\"dataframe\">\n",
       "  <thead>\n",
       "    <tr style=\"text-align: right;\">\n",
       "      <th></th>\n",
       "      <th>id</th>\n",
       "      <th>age</th>\n",
       "      <th>sex</th>\n",
       "      <th>dataset</th>\n",
       "      <th>cp</th>\n",
       "      <th>trestbps</th>\n",
       "      <th>chol</th>\n",
       "      <th>fbs</th>\n",
       "      <th>restecg</th>\n",
       "      <th>thalch</th>\n",
       "      <th>exang</th>\n",
       "      <th>oldpeak</th>\n",
       "      <th>slope</th>\n",
       "      <th>ca</th>\n",
       "      <th>thal</th>\n",
       "      <th>num</th>\n",
       "    </tr>\n",
       "  </thead>\n",
       "  <tbody>\n",
       "    <tr>\n",
       "      <th>0</th>\n",
       "      <td>1</td>\n",
       "      <td>63</td>\n",
       "      <td>Male</td>\n",
       "      <td>Cleveland</td>\n",
       "      <td>typical angina</td>\n",
       "      <td>145.0</td>\n",
       "      <td>233.0</td>\n",
       "      <td>True</td>\n",
       "      <td>lv hypertrophy</td>\n",
       "      <td>150.0</td>\n",
       "      <td>False</td>\n",
       "      <td>2.3</td>\n",
       "      <td>downsloping</td>\n",
       "      <td>0.0</td>\n",
       "      <td>fixed defect</td>\n",
       "      <td>0</td>\n",
       "    </tr>\n",
       "    <tr>\n",
       "      <th>1</th>\n",
       "      <td>2</td>\n",
       "      <td>67</td>\n",
       "      <td>Male</td>\n",
       "      <td>Cleveland</td>\n",
       "      <td>asymptomatic</td>\n",
       "      <td>160.0</td>\n",
       "      <td>286.0</td>\n",
       "      <td>False</td>\n",
       "      <td>lv hypertrophy</td>\n",
       "      <td>108.0</td>\n",
       "      <td>True</td>\n",
       "      <td>1.5</td>\n",
       "      <td>flat</td>\n",
       "      <td>3.0</td>\n",
       "      <td>normal</td>\n",
       "      <td>2</td>\n",
       "    </tr>\n",
       "    <tr>\n",
       "      <th>2</th>\n",
       "      <td>3</td>\n",
       "      <td>67</td>\n",
       "      <td>Male</td>\n",
       "      <td>Cleveland</td>\n",
       "      <td>asymptomatic</td>\n",
       "      <td>120.0</td>\n",
       "      <td>229.0</td>\n",
       "      <td>False</td>\n",
       "      <td>lv hypertrophy</td>\n",
       "      <td>129.0</td>\n",
       "      <td>True</td>\n",
       "      <td>2.6</td>\n",
       "      <td>flat</td>\n",
       "      <td>2.0</td>\n",
       "      <td>reversable defect</td>\n",
       "      <td>1</td>\n",
       "    </tr>\n",
       "    <tr>\n",
       "      <th>3</th>\n",
       "      <td>4</td>\n",
       "      <td>37</td>\n",
       "      <td>Male</td>\n",
       "      <td>Cleveland</td>\n",
       "      <td>non-anginal</td>\n",
       "      <td>130.0</td>\n",
       "      <td>250.0</td>\n",
       "      <td>False</td>\n",
       "      <td>normal</td>\n",
       "      <td>187.0</td>\n",
       "      <td>False</td>\n",
       "      <td>3.5</td>\n",
       "      <td>downsloping</td>\n",
       "      <td>0.0</td>\n",
       "      <td>normal</td>\n",
       "      <td>0</td>\n",
       "    </tr>\n",
       "    <tr>\n",
       "      <th>4</th>\n",
       "      <td>5</td>\n",
       "      <td>41</td>\n",
       "      <td>Female</td>\n",
       "      <td>Cleveland</td>\n",
       "      <td>atypical angina</td>\n",
       "      <td>130.0</td>\n",
       "      <td>204.0</td>\n",
       "      <td>False</td>\n",
       "      <td>lv hypertrophy</td>\n",
       "      <td>172.0</td>\n",
       "      <td>False</td>\n",
       "      <td>1.4</td>\n",
       "      <td>upsloping</td>\n",
       "      <td>0.0</td>\n",
       "      <td>normal</td>\n",
       "      <td>0</td>\n",
       "    </tr>\n",
       "  </tbody>\n",
       "</table>\n",
       "</div>"
      ],
      "text/plain": [
       "   id  age     sex    dataset               cp  trestbps   chol    fbs  \\\n",
       "0   1   63    Male  Cleveland   typical angina     145.0  233.0   True   \n",
       "1   2   67    Male  Cleveland     asymptomatic     160.0  286.0  False   \n",
       "2   3   67    Male  Cleveland     asymptomatic     120.0  229.0  False   \n",
       "3   4   37    Male  Cleveland      non-anginal     130.0  250.0  False   \n",
       "4   5   41  Female  Cleveland  atypical angina     130.0  204.0  False   \n",
       "\n",
       "          restecg  thalch  exang  oldpeak        slope   ca  \\\n",
       "0  lv hypertrophy   150.0  False      2.3  downsloping  0.0   \n",
       "1  lv hypertrophy   108.0   True      1.5         flat  3.0   \n",
       "2  lv hypertrophy   129.0   True      2.6         flat  2.0   \n",
       "3          normal   187.0  False      3.5  downsloping  0.0   \n",
       "4  lv hypertrophy   172.0  False      1.4    upsloping  0.0   \n",
       "\n",
       "                thal  num  \n",
       "0       fixed defect    0  \n",
       "1             normal    2  \n",
       "2  reversable defect    1  \n",
       "3             normal    0  \n",
       "4             normal    0  "
      ]
     },
     "execution_count": 8,
     "metadata": {},
     "output_type": "execute_result"
    }
   ],
   "source": [
    "print(\"-----------İlk beş veri-------------------\")\n",
    "dataframe.head()"
   ]
  },
  {
   "cell_type": "code",
   "execution_count": 9,
   "id": "24219afb",
   "metadata": {},
   "outputs": [
    {
     "name": "stderr",
     "output_type": "stream",
     "text": [
      "C:\\Users\\Yasin\\AppData\\Local\\Temp\\ipykernel_7596\\4184807701.py:1: FutureWarning: \n",
      "\n",
      "Passing `palette` without assigning `hue` is deprecated and will be removed in v0.14.0. Assign the `x` variable to `hue` and set `legend=False` for the same effect.\n",
      "\n",
      "  sns.countplot(x=\"num\", data=dataframe, palette=\"Set2\")\n"
     ]
    },
    {
     "data": {
      "image/png": "[encoded data removed]",
      "text/plain": [
       "<Figure size 640x480 with 1 Axes>"
      ]
     },
     "metadata": {},
     "output_type": "display_data"
    }
   ],
   "source": [
    "\n",
    "\n",
    "sns.countplot(x=\"num\", data=dataframe, palette=\"Set2\")\n",
    "plt.title(\"Kalp Hastalığı Durumu Dağılımı )\")\n",
    "plt.xlabel(\"Hedef Değişken (num)\")\n",
    "plt.ylabel(\"Kişi Sayısı\")\n",
    "plt.show()\n"
   ]
  },
  {
   "cell_type": "markdown",
   "id": "5d9bd0ef",
   "metadata": {},
   "source": [
    "Hedef değişken şöyleymiş : \n",
    "\n",
    "- `0 = no heart disease.`\n",
    "- `1 = Mild Heart Disease types.`\n",
    "- `2 = Moderate Heart Disease type.`\n",
    "- `3 = Severe Heart Disease type.`\n",
    "- `4 = Critical Heart Disease type.`"
   ]
  },
  {
   "cell_type": "markdown",
   "id": "461f14b2",
   "metadata": {},
   "source": [
    "Buradan sonra veriyi anlamak için yapılacak anallzier şunlar olacak : \n",
    "\n",
    "- Cinsiyete göre kalp hastalığı dağılımı, \n",
    "- Yaş ve cinsiyet dağılımları ve normal dağılıma uygun mu incelenmesi \n",
    "- Atılması gereken field var mı kontrolü\n",
    "- Outlier kontrolü (dağılımlar, boxplotlar)\n",
    "- Özellikler arasındaki korelasyon analizi (ısı haritası)\n",
    "- "
   ]
  },
  {
   "cell_type": "code",
   "execution_count": null,
   "id": "02e2dc43",
   "metadata": {},
   "outputs": [],
   "source": []
  }
 ],
 "metadata": {
  "kernelspec": {
   "display_name": "Python 3",
   "language": "python",
   "name": "python3"
  },
  "language_info": {
   "codemirror_mode": {
    "name": "ipython",
    "version": 3
   },
   "file_extension": ".py",
   "mimetype": "text/x-python",
   "name": "python",
   "nbconvert_exporter": "python",
   "pygments_lexer": "ipython3",
   "version": "3.11.7"
  }
 },
 "nbformat": 4,
 "nbformat_minor": 5
}
